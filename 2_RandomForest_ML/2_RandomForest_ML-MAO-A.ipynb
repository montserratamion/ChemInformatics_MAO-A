{
 "cells": [
  {
   "cell_type": "markdown",
   "metadata": {},
   "source": [
    "# Random Forest ML training on MAO-A data set"
   ]
  },
  {
   "cell_type": "code",
   "execution_count": 56,
   "metadata": {},
   "outputs": [],
   "source": [
    "#Essentials for data handle\n",
    "import os\n",
    "import pandas as pd\n",
    "import numpy as np\n",
    "\n",
    "#Chemistry data handle\n",
    "from rdkit import Chem\n",
    "from rdkit.Chem import AllChem\n",
    "from rdkit import rdBase\n",
    "from rdkit.Chem.Draw import IPythonConsole\n",
    "from rdkit.Chem import Draw\n",
    "\n",
    "import mols2grid\n",
    "\n",
    "#ML essentials\n",
    "from sklearn.ensemble import RandomForestClassifier\n",
    "from sklearn.model_selection import train_test_split\n",
    "from sklearn.model_selection import cross_val_score, cross_val_predict\n",
    "from sklearn.metrics import confusion_matrix\n",
    "from sklearn.metrics import roc_auc_score\n",
    "\n",
    "\n",
    "#ML model-prediction analysis\n",
    "from matplotlib import pyplot as plt\n",
    "from pycm import *\n",
    "\n",
    "#to save final model\n",
    "import pickle"
   ]
  },
  {
   "cell_type": "markdown",
   "metadata": {},
   "source": [
    "## Summary of procedure:\n",
    "\n",
    "- Load data frames from Molecular exploratory analysis (MAO_cluster and MAO_unique)\n",
    "- Divide by strong and weak binding and set labels accordingly\n",
    "- Save SMILES data with labels and obtain Vector descriptors using Morgan Fingerprints with RDkit\n",
    "- Split train and test sets and train Rando Forest model.\n",
    "- Compare both trainings from both dataframes\n"
   ]
  },
  {
   "cell_type": "code",
   "execution_count": 6,
   "metadata": {},
   "outputs": [
    {
     "data": {
      "text/html": [
       "<div>\n",
       "<style scoped>\n",
       "    .dataframe tbody tr th:only-of-type {\n",
       "        vertical-align: middle;\n",
       "    }\n",
       "\n",
       "    .dataframe tbody tr th {\n",
       "        vertical-align: top;\n",
       "    }\n",
       "\n",
       "    .dataframe thead th {\n",
       "        text-align: right;\n",
       "    }\n",
       "</style>\n",
       "<table border=\"1\" class=\"dataframe\">\n",
       "  <thead>\n",
       "    <tr style=\"text-align: right;\">\n",
       "      <th></th>\n",
       "      <th>Molecule ChEMBL ID</th>\n",
       "      <th>SMILES</th>\n",
       "      <th>Standard Type</th>\n",
       "      <th>Standard Relation</th>\n",
       "      <th>Standard Value</th>\n",
       "      <th>Standard Units</th>\n",
       "      <th>Mw</th>\n",
       "      <th>logP</th>\n",
       "      <th>HBd</th>\n",
       "      <th>HBa</th>\n",
       "      <th>Max_ring_size</th>\n",
       "      <th>ro5_ok</th>\n",
       "      <th>ro5_count</th>\n",
       "      <th>Cluster</th>\n",
       "    </tr>\n",
       "  </thead>\n",
       "  <tbody>\n",
       "    <tr>\n",
       "      <th>0</th>\n",
       "      <td>CHEMBL3660741</td>\n",
       "      <td>CS(=O)(=O)Nc1ccc(-c2coc3cc(C#CC4CN(C(=O)CO)C4)...</td>\n",
       "      <td>IC50</td>\n",
       "      <td>'&gt;'</td>\n",
       "      <td>130000.0</td>\n",
       "      <td>nM</td>\n",
       "      <td>452.104207</td>\n",
       "      <td>1.6337</td>\n",
       "      <td>2</td>\n",
       "      <td>8</td>\n",
       "      <td>6</td>\n",
       "      <td>True</td>\n",
       "      <td>4</td>\n",
       "      <td>1</td>\n",
       "    </tr>\n",
       "    <tr>\n",
       "      <th>1</th>\n",
       "      <td>CHEMBL3660745</td>\n",
       "      <td>CC(O)C(=O)N1CC(C#Cc2ccc3c(=O)c(-c4ccc(NS(C)(=O...</td>\n",
       "      <td>IC50</td>\n",
       "      <td>'&gt;'</td>\n",
       "      <td>130000.0</td>\n",
       "      <td>nM</td>\n",
       "      <td>466.119857</td>\n",
       "      <td>2.0222</td>\n",
       "      <td>2</td>\n",
       "      <td>8</td>\n",
       "      <td>6</td>\n",
       "      <td>True</td>\n",
       "      <td>4</td>\n",
       "      <td>1</td>\n",
       "    </tr>\n",
       "    <tr>\n",
       "      <th>2</th>\n",
       "      <td>CHEMBL3660734</td>\n",
       "      <td>CS(=O)(=O)Nc1ccc(-c2coc3cc(C#CC4CNC4)ccc3c2=O)cc1</td>\n",
       "      <td>IC50</td>\n",
       "      <td>'&gt;'</td>\n",
       "      <td>130000.0</td>\n",
       "      <td>nM</td>\n",
       "      <td>394.098728</td>\n",
       "      <td>2.4024</td>\n",
       "      <td>2</td>\n",
       "      <td>6</td>\n",
       "      <td>6</td>\n",
       "      <td>True</td>\n",
       "      <td>4</td>\n",
       "      <td>1</td>\n",
       "    </tr>\n",
       "    <tr>\n",
       "      <th>3</th>\n",
       "      <td>CHEMBL3660743</td>\n",
       "      <td>CC(C)(O)C(=O)N1CC(C#Cc2ccc3c(=O)c(-c4ccc(NS(C)...</td>\n",
       "      <td>IC50</td>\n",
       "      <td>'&gt;'</td>\n",
       "      <td>130000.0</td>\n",
       "      <td>nM</td>\n",
       "      <td>480.135507</td>\n",
       "      <td>2.4123</td>\n",
       "      <td>2</td>\n",
       "      <td>8</td>\n",
       "      <td>6</td>\n",
       "      <td>True</td>\n",
       "      <td>4</td>\n",
       "      <td>1</td>\n",
       "    </tr>\n",
       "    <tr>\n",
       "      <th>4</th>\n",
       "      <td>CHEMBL3660740</td>\n",
       "      <td>CN(C)CCC(=O)N1CC(C#Cc2ccc3c(=O)c(-c4ccc(NS(C)(...</td>\n",
       "      <td>IC50</td>\n",
       "      <td>'='</td>\n",
       "      <td>46947.0</td>\n",
       "      <td>nM</td>\n",
       "      <td>493.167142</td>\n",
       "      <td>2.5931</td>\n",
       "      <td>1</td>\n",
       "      <td>8</td>\n",
       "      <td>6</td>\n",
       "      <td>True</td>\n",
       "      <td>4</td>\n",
       "      <td>1</td>\n",
       "    </tr>\n",
       "  </tbody>\n",
       "</table>\n",
       "</div>"
      ],
      "text/plain": [
       "  Molecule ChEMBL ID                                             SMILES  \\\n",
       "0      CHEMBL3660741  CS(=O)(=O)Nc1ccc(-c2coc3cc(C#CC4CN(C(=O)CO)C4)...   \n",
       "1      CHEMBL3660745  CC(O)C(=O)N1CC(C#Cc2ccc3c(=O)c(-c4ccc(NS(C)(=O...   \n",
       "2      CHEMBL3660734  CS(=O)(=O)Nc1ccc(-c2coc3cc(C#CC4CNC4)ccc3c2=O)cc1   \n",
       "3      CHEMBL3660743  CC(C)(O)C(=O)N1CC(C#Cc2ccc3c(=O)c(-c4ccc(NS(C)...   \n",
       "4      CHEMBL3660740  CN(C)CCC(=O)N1CC(C#Cc2ccc3c(=O)c(-c4ccc(NS(C)(...   \n",
       "\n",
       "  Standard Type Standard Relation  Standard Value Standard Units          Mw  \\\n",
       "0          IC50               '>'        130000.0             nM  452.104207   \n",
       "1          IC50               '>'        130000.0             nM  466.119857   \n",
       "2          IC50               '>'        130000.0             nM  394.098728   \n",
       "3          IC50               '>'        130000.0             nM  480.135507   \n",
       "4          IC50               '='         46947.0             nM  493.167142   \n",
       "\n",
       "     logP  HBd  HBa  Max_ring_size  ro5_ok  ro5_count  Cluster  \n",
       "0  1.6337    2    8              6    True          4        1  \n",
       "1  2.0222    2    8              6    True          4        1  \n",
       "2  2.4024    2    6              6    True          4        1  \n",
       "3  2.4123    2    8              6    True          4        1  \n",
       "4  2.5931    1    8              6    True          4        1  "
      ]
     },
     "execution_count": 6,
     "metadata": {},
     "output_type": "execute_result"
    }
   ],
   "source": [
    "#load file\n",
    "\n",
    "url_MAO_cluster = 'https://raw.githubusercontent.com/montserratamion/ChemInformatics_MAO-A/main/1_Exploratory_Analysis/MAO-A_cluster.csv'\n",
    "url_MAO_unique = 'https://raw.githubusercontent.com/montserratamion/ChemInformatics_MAO-A/main/1_Exploratory_Analysis/MAO-A_cluster_unique.csv'\n",
    "\n",
    "MAO_cluster_df = pd.read_csv(url_MAO_cluster, sep=',')\n",
    "MAO_unique_df = pd.read_csv(url_MAO_unique, sep=',')\n",
    "MAO_cluster_df.head()"
   ]
  },
  {
   "cell_type": "code",
   "execution_count": 8,
   "metadata": {},
   "outputs": [
    {
     "data": {
      "text/plain": [
       "(3158, 14)"
      ]
     },
     "execution_count": 8,
     "metadata": {},
     "output_type": "execute_result"
    }
   ],
   "source": [
    "MAO_cluster_df.shape"
   ]
  },
  {
   "cell_type": "code",
   "execution_count": 7,
   "metadata": {},
   "outputs": [
    {
     "data": {
      "text/html": [
       "<div>\n",
       "<style scoped>\n",
       "    .dataframe tbody tr th:only-of-type {\n",
       "        vertical-align: middle;\n",
       "    }\n",
       "\n",
       "    .dataframe tbody tr th {\n",
       "        vertical-align: top;\n",
       "    }\n",
       "\n",
       "    .dataframe thead th {\n",
       "        text-align: right;\n",
       "    }\n",
       "</style>\n",
       "<table border=\"1\" class=\"dataframe\">\n",
       "  <thead>\n",
       "    <tr style=\"text-align: right;\">\n",
       "      <th></th>\n",
       "      <th>Molecule ChEMBL ID</th>\n",
       "      <th>SMILES</th>\n",
       "      <th>Standard Type</th>\n",
       "      <th>Standard Relation</th>\n",
       "      <th>Standard Value</th>\n",
       "      <th>Standard Units</th>\n",
       "      <th>Mw</th>\n",
       "      <th>logP</th>\n",
       "      <th>HBd</th>\n",
       "      <th>HBa</th>\n",
       "      <th>Max_ring_size</th>\n",
       "      <th>ro5_ok</th>\n",
       "      <th>ro5_count</th>\n",
       "      <th>Cluster</th>\n",
       "    </tr>\n",
       "  </thead>\n",
       "  <tbody>\n",
       "    <tr>\n",
       "      <th>0</th>\n",
       "      <td>CHEMBL3660741</td>\n",
       "      <td>CS(=O)(=O)Nc1ccc(-c2coc3cc(C#CC4CN(C(=O)CO)C4)...</td>\n",
       "      <td>IC50</td>\n",
       "      <td>'&gt;'</td>\n",
       "      <td>130000.00</td>\n",
       "      <td>nM</td>\n",
       "      <td>452.104207</td>\n",
       "      <td>1.63370</td>\n",
       "      <td>2</td>\n",
       "      <td>8</td>\n",
       "      <td>6</td>\n",
       "      <td>True</td>\n",
       "      <td>4</td>\n",
       "      <td>1</td>\n",
       "    </tr>\n",
       "    <tr>\n",
       "      <th>1</th>\n",
       "      <td>CHEMBL508324</td>\n",
       "      <td>C[C@@H]1CCCC/C1=N/Nc1nc(-c2ccc(C#N)cc2)cs1</td>\n",
       "      <td>IC50</td>\n",
       "      <td>'='</td>\n",
       "      <td>5495.41</td>\n",
       "      <td>nM</td>\n",
       "      <td>310.125218</td>\n",
       "      <td>4.65978</td>\n",
       "      <td>1</td>\n",
       "      <td>4</td>\n",
       "      <td>6</td>\n",
       "      <td>True</td>\n",
       "      <td>4</td>\n",
       "      <td>2</td>\n",
       "    </tr>\n",
       "    <tr>\n",
       "      <th>2</th>\n",
       "      <td>CHEMBL399572</td>\n",
       "      <td>N#Cc1ccc(-c2csc(NN=C3CCCC3)n2)cc1</td>\n",
       "      <td>IC50</td>\n",
       "      <td>'='</td>\n",
       "      <td>644.00</td>\n",
       "      <td>nM</td>\n",
       "      <td>282.093917</td>\n",
       "      <td>4.02368</td>\n",
       "      <td>1</td>\n",
       "      <td>4</td>\n",
       "      <td>6</td>\n",
       "      <td>True</td>\n",
       "      <td>4</td>\n",
       "      <td>3</td>\n",
       "    </tr>\n",
       "    <tr>\n",
       "      <th>3</th>\n",
       "      <td>CHEMBL3818992</td>\n",
       "      <td>O=C(/C=C/c1ccc(O)c(O)c1)NCCC1CCN(Cc2ccccc2)CC1</td>\n",
       "      <td>IC50</td>\n",
       "      <td>'='</td>\n",
       "      <td>3500.00</td>\n",
       "      <td>nM</td>\n",
       "      <td>380.209993</td>\n",
       "      <td>3.52950</td>\n",
       "      <td>3</td>\n",
       "      <td>5</td>\n",
       "      <td>6</td>\n",
       "      <td>True</td>\n",
       "      <td>4</td>\n",
       "      <td>4</td>\n",
       "    </tr>\n",
       "    <tr>\n",
       "      <th>4</th>\n",
       "      <td>CHEMBL3629466</td>\n",
       "      <td>COc1ccc(/C=C/c2cc(OC)cc(OC)c2/C=C/C(=O)c2cc3cc...</td>\n",
       "      <td>IC50</td>\n",
       "      <td>'='</td>\n",
       "      <td>41700.00</td>\n",
       "      <td>nM</td>\n",
       "      <td>468.157288</td>\n",
       "      <td>5.88530</td>\n",
       "      <td>0</td>\n",
       "      <td>6</td>\n",
       "      <td>6</td>\n",
       "      <td>False</td>\n",
       "      <td>3</td>\n",
       "      <td>5</td>\n",
       "    </tr>\n",
       "  </tbody>\n",
       "</table>\n",
       "</div>"
      ],
      "text/plain": [
       "  Molecule ChEMBL ID                                             SMILES  \\\n",
       "0      CHEMBL3660741  CS(=O)(=O)Nc1ccc(-c2coc3cc(C#CC4CN(C(=O)CO)C4)...   \n",
       "1       CHEMBL508324         C[C@@H]1CCCC/C1=N/Nc1nc(-c2ccc(C#N)cc2)cs1   \n",
       "2       CHEMBL399572                  N#Cc1ccc(-c2csc(NN=C3CCCC3)n2)cc1   \n",
       "3      CHEMBL3818992     O=C(/C=C/c1ccc(O)c(O)c1)NCCC1CCN(Cc2ccccc2)CC1   \n",
       "4      CHEMBL3629466  COc1ccc(/C=C/c2cc(OC)cc(OC)c2/C=C/C(=O)c2cc3cc...   \n",
       "\n",
       "  Standard Type Standard Relation  Standard Value Standard Units          Mw  \\\n",
       "0          IC50               '>'       130000.00             nM  452.104207   \n",
       "1          IC50               '='         5495.41             nM  310.125218   \n",
       "2          IC50               '='          644.00             nM  282.093917   \n",
       "3          IC50               '='         3500.00             nM  380.209993   \n",
       "4          IC50               '='        41700.00             nM  468.157288   \n",
       "\n",
       "      logP  HBd  HBa  Max_ring_size  ro5_ok  ro5_count  Cluster  \n",
       "0  1.63370    2    8              6    True          4        1  \n",
       "1  4.65978    1    4              6    True          4        2  \n",
       "2  4.02368    1    4              6    True          4        3  \n",
       "3  3.52950    3    5              6    True          4        4  \n",
       "4  5.88530    0    6              6   False          3        5  "
      ]
     },
     "execution_count": 7,
     "metadata": {},
     "output_type": "execute_result"
    }
   ],
   "source": [
    "MAO_unique_df.head()"
   ]
  },
  {
   "cell_type": "code",
   "execution_count": 11,
   "metadata": {},
   "outputs": [
    {
     "data": {
      "text/plain": [
       "(1605, 14)"
      ]
     },
     "execution_count": 11,
     "metadata": {},
     "output_type": "execute_result"
    }
   ],
   "source": [
    "MAO_unique_df.shape"
   ]
  },
  {
   "cell_type": "markdown",
   "metadata": {},
   "source": [
    "## Obtaining descriptors for both dataframes"
   ]
  },
  {
   "cell_type": "code",
   "execution_count": 16,
   "metadata": {},
   "outputs": [],
   "source": [
    "# Classify the data in strong or weak binding and add labels\n",
    "# Strong binding -> label =1\n",
    "# Weak binding -> label = 0\n",
    "\n",
    "# MAO_cluster_df\n",
    "    #select strong and weak binding molecules\n",
    "strong_cluster = MAO_cluster_df.loc[MAO_cluster_df['Standard Value']<=500]\n",
    "weak_cluster = MAO_cluster_df.loc[MAO_cluster_df['Standard Value']>=2000]\n",
    "    #add labels\n",
    "strong_cluster = strong_cluster.assign(label=1)\n",
    "weak_cluster = weak_cluster.assign(label=0)\n",
    "    #Combine strong and weak dataframe\n",
    "combined_cluster = pd.concat([strong_cluster, weak_cluster], axis=0)\n",
    "\n",
    "\n",
    "#MAO_unique_df\n",
    "    #select strong and weak binding molecules\n",
    "strong_unique = MAO_unique_df.loc[MAO_unique_df['Standard Value']<=500]\n",
    "weak_unique = MAO_unique_df.loc[MAO_unique_df['Standard Value']>=2000]\n",
    "    #add labels\n",
    "strong_unique = strong_unique.assign(label=1)\n",
    "weak_unique = weak_unique.assign(label=0)\n",
    "    #Combine strong and weak dataframe\n",
    "combined_unique = pd.concat([strong_unique, weak_unique], axis=0)"
   ]
  },
  {
   "cell_type": "code",
   "execution_count": 17,
   "metadata": {},
   "outputs": [
    {
     "data": {
      "text/html": [
       "<div>\n",
       "<style scoped>\n",
       "    .dataframe tbody tr th:only-of-type {\n",
       "        vertical-align: middle;\n",
       "    }\n",
       "\n",
       "    .dataframe tbody tr th {\n",
       "        vertical-align: top;\n",
       "    }\n",
       "\n",
       "    .dataframe thead th {\n",
       "        text-align: right;\n",
       "    }\n",
       "</style>\n",
       "<table border=\"1\" class=\"dataframe\">\n",
       "  <thead>\n",
       "    <tr style=\"text-align: right;\">\n",
       "      <th></th>\n",
       "      <th>Molecule ChEMBL ID</th>\n",
       "      <th>SMILES</th>\n",
       "      <th>Standard Type</th>\n",
       "      <th>Standard Relation</th>\n",
       "      <th>Standard Value</th>\n",
       "      <th>Standard Units</th>\n",
       "      <th>Mw</th>\n",
       "      <th>logP</th>\n",
       "      <th>HBd</th>\n",
       "      <th>HBa</th>\n",
       "      <th>Max_ring_size</th>\n",
       "      <th>ro5_ok</th>\n",
       "      <th>ro5_count</th>\n",
       "      <th>Cluster</th>\n",
       "      <th>label</th>\n",
       "    </tr>\n",
       "  </thead>\n",
       "  <tbody>\n",
       "    <tr>\n",
       "      <th>131</th>\n",
       "      <td>CHEMBL4163558</td>\n",
       "      <td>Cc1c2c(nn1-c1ccc(/C=N/NC(=S)Nc3cccc(F)c3)cc1)-...</td>\n",
       "      <td>IC50</td>\n",
       "      <td>'='</td>\n",
       "      <td>470.0</td>\n",
       "      <td>nM</td>\n",
       "      <td>520.115144</td>\n",
       "      <td>4.44582</td>\n",
       "      <td>2</td>\n",
       "      <td>8</td>\n",
       "      <td>6</td>\n",
       "      <td>False</td>\n",
       "      <td>3</td>\n",
       "      <td>7</td>\n",
       "      <td>1</td>\n",
       "    </tr>\n",
       "    <tr>\n",
       "      <th>134</th>\n",
       "      <td>CHEMBL4161420</td>\n",
       "      <td>Cc1ccc(NC(=S)N/N=C/c2ccc(-n3nc4c(c3C)N(C)S(=O)...</td>\n",
       "      <td>IC50</td>\n",
       "      <td>'='</td>\n",
       "      <td>3.0</td>\n",
       "      <td>nM</td>\n",
       "      <td>516.140216</td>\n",
       "      <td>4.61514</td>\n",
       "      <td>2</td>\n",
       "      <td>8</td>\n",
       "      <td>6</td>\n",
       "      <td>False</td>\n",
       "      <td>3</td>\n",
       "      <td>7</td>\n",
       "      <td>1</td>\n",
       "    </tr>\n",
       "    <tr>\n",
       "      <th>135</th>\n",
       "      <td>CHEMBL4169343</td>\n",
       "      <td>Cc1ccccc1NC(=S)N/N=C/c1ccc(-n2nc3c(c2C)N(C)S(=...</td>\n",
       "      <td>IC50</td>\n",
       "      <td>'='</td>\n",
       "      <td>10.0</td>\n",
       "      <td>nM</td>\n",
       "      <td>516.140216</td>\n",
       "      <td>4.61514</td>\n",
       "      <td>2</td>\n",
       "      <td>8</td>\n",
       "      <td>6</td>\n",
       "      <td>False</td>\n",
       "      <td>3</td>\n",
       "      <td>7</td>\n",
       "      <td>1</td>\n",
       "    </tr>\n",
       "    <tr>\n",
       "      <th>137</th>\n",
       "      <td>CHEMBL4174892</td>\n",
       "      <td>Cc1cccc(C)c1NC(=S)N/N=C/c1ccc(-n2nc3c(c2C)N(C)...</td>\n",
       "      <td>IC50</td>\n",
       "      <td>'='</td>\n",
       "      <td>10.0</td>\n",
       "      <td>nM</td>\n",
       "      <td>530.155866</td>\n",
       "      <td>4.92356</td>\n",
       "      <td>2</td>\n",
       "      <td>8</td>\n",
       "      <td>6</td>\n",
       "      <td>False</td>\n",
       "      <td>3</td>\n",
       "      <td>7</td>\n",
       "      <td>1</td>\n",
       "    </tr>\n",
       "    <tr>\n",
       "      <th>157</th>\n",
       "      <td>CHEMBL5195988</td>\n",
       "      <td>O=C1c2ccccc2-c2nccc3cc(OCCCN4CCN(c5ccccc5)CC4)...</td>\n",
       "      <td>IC50</td>\n",
       "      <td>'='</td>\n",
       "      <td>9.0</td>\n",
       "      <td>nM</td>\n",
       "      <td>449.210327</td>\n",
       "      <td>5.03730</td>\n",
       "      <td>0</td>\n",
       "      <td>5</td>\n",
       "      <td>6</td>\n",
       "      <td>False</td>\n",
       "      <td>3</td>\n",
       "      <td>9</td>\n",
       "      <td>1</td>\n",
       "    </tr>\n",
       "  </tbody>\n",
       "</table>\n",
       "</div>"
      ],
      "text/plain": [
       "    Molecule ChEMBL ID                                             SMILES  \\\n",
       "131      CHEMBL4163558  Cc1c2c(nn1-c1ccc(/C=N/NC(=S)Nc3cccc(F)c3)cc1)-...   \n",
       "134      CHEMBL4161420  Cc1ccc(NC(=S)N/N=C/c2ccc(-n3nc4c(c3C)N(C)S(=O)...   \n",
       "135      CHEMBL4169343  Cc1ccccc1NC(=S)N/N=C/c1ccc(-n2nc3c(c2C)N(C)S(=...   \n",
       "137      CHEMBL4174892  Cc1cccc(C)c1NC(=S)N/N=C/c1ccc(-n2nc3c(c2C)N(C)...   \n",
       "157      CHEMBL5195988  O=C1c2ccccc2-c2nccc3cc(OCCCN4CCN(c5ccccc5)CC4)...   \n",
       "\n",
       "    Standard Type Standard Relation  Standard Value Standard Units  \\\n",
       "131          IC50               '='           470.0             nM   \n",
       "134          IC50               '='             3.0             nM   \n",
       "135          IC50               '='            10.0             nM   \n",
       "137          IC50               '='            10.0             nM   \n",
       "157          IC50               '='             9.0             nM   \n",
       "\n",
       "             Mw     logP  HBd  HBa  Max_ring_size  ro5_ok  ro5_count  Cluster  \\\n",
       "131  520.115144  4.44582    2    8              6   False          3        7   \n",
       "134  516.140216  4.61514    2    8              6   False          3        7   \n",
       "135  516.140216  4.61514    2    8              6   False          3        7   \n",
       "137  530.155866  4.92356    2    8              6   False          3        7   \n",
       "157  449.210327  5.03730    0    5              6   False          3        9   \n",
       "\n",
       "     label  \n",
       "131      1  \n",
       "134      1  \n",
       "135      1  \n",
       "137      1  \n",
       "157      1  "
      ]
     },
     "execution_count": 17,
     "metadata": {},
     "output_type": "execute_result"
    }
   ],
   "source": [
    "combined_cluster.head()"
   ]
  },
  {
   "cell_type": "code",
   "execution_count": 18,
   "metadata": {},
   "outputs": [
    {
     "data": {
      "text/html": [
       "<div>\n",
       "<style scoped>\n",
       "    .dataframe tbody tr th:only-of-type {\n",
       "        vertical-align: middle;\n",
       "    }\n",
       "\n",
       "    .dataframe tbody tr th {\n",
       "        vertical-align: top;\n",
       "    }\n",
       "\n",
       "    .dataframe thead th {\n",
       "        text-align: right;\n",
       "    }\n",
       "</style>\n",
       "<table border=\"1\" class=\"dataframe\">\n",
       "  <thead>\n",
       "    <tr style=\"text-align: right;\">\n",
       "      <th></th>\n",
       "      <th>Molecule ChEMBL ID</th>\n",
       "      <th>SMILES</th>\n",
       "      <th>Standard Type</th>\n",
       "      <th>Standard Relation</th>\n",
       "      <th>Standard Value</th>\n",
       "      <th>Standard Units</th>\n",
       "      <th>Mw</th>\n",
       "      <th>logP</th>\n",
       "      <th>HBd</th>\n",
       "      <th>HBa</th>\n",
       "      <th>Max_ring_size</th>\n",
       "      <th>ro5_ok</th>\n",
       "      <th>ro5_count</th>\n",
       "      <th>Cluster</th>\n",
       "      <th>label</th>\n",
       "    </tr>\n",
       "  </thead>\n",
       "  <tbody>\n",
       "    <tr>\n",
       "      <th>2973</th>\n",
       "      <td>CHEMBL3218160</td>\n",
       "      <td>C(=N/Nc1nc(-c2ccc3ccccc3c2)cs1)\\c1ccco1</td>\n",
       "      <td>IC50</td>\n",
       "      <td>'='</td>\n",
       "      <td>2040.0</td>\n",
       "      <td>nM</td>\n",
       "      <td>319.077933</td>\n",
       "      <td>5.0023</td>\n",
       "      <td>1</td>\n",
       "      <td>4</td>\n",
       "      <td>6</td>\n",
       "      <td>False</td>\n",
       "      <td>3</td>\n",
       "      <td>1421</td>\n",
       "      <td>0</td>\n",
       "    </tr>\n",
       "    <tr>\n",
       "      <th>2974</th>\n",
       "      <td>CHEMBL2332211</td>\n",
       "      <td>C#CCN(C)[C@H](CF)CC(=C)C</td>\n",
       "      <td>IC50</td>\n",
       "      <td>'&gt;'</td>\n",
       "      <td>2000.0</td>\n",
       "      <td>nM</td>\n",
       "      <td>169.126678</td>\n",
       "      <td>1.8557</td>\n",
       "      <td>0</td>\n",
       "      <td>1</td>\n",
       "      <td>0</td>\n",
       "      <td>True</td>\n",
       "      <td>4</td>\n",
       "      <td>1422</td>\n",
       "      <td>0</td>\n",
       "    </tr>\n",
       "    <tr>\n",
       "      <th>2975</th>\n",
       "      <td>CHEMBL2332210</td>\n",
       "      <td>C#CCN(C)[C@H](CF)CC(C)C</td>\n",
       "      <td>IC50</td>\n",
       "      <td>'&gt;'</td>\n",
       "      <td>2000.0</td>\n",
       "      <td>nM</td>\n",
       "      <td>171.142328</td>\n",
       "      <td>1.9356</td>\n",
       "      <td>0</td>\n",
       "      <td>1</td>\n",
       "      <td>0</td>\n",
       "      <td>True</td>\n",
       "      <td>4</td>\n",
       "      <td>1423</td>\n",
       "      <td>0</td>\n",
       "    </tr>\n",
       "    <tr>\n",
       "      <th>2976</th>\n",
       "      <td>CHEMBL2332212</td>\n",
       "      <td>C#CCN(C)[C@H](CF)Cc1ccco1</td>\n",
       "      <td>IC50</td>\n",
       "      <td>'&gt;'</td>\n",
       "      <td>2000.0</td>\n",
       "      <td>nM</td>\n",
       "      <td>195.105942</td>\n",
       "      <td>1.7252</td>\n",
       "      <td>0</td>\n",
       "      <td>2</td>\n",
       "      <td>5</td>\n",
       "      <td>True</td>\n",
       "      <td>4</td>\n",
       "      <td>1424</td>\n",
       "      <td>0</td>\n",
       "    </tr>\n",
       "    <tr>\n",
       "      <th>2977</th>\n",
       "      <td>CHEMBL1911928</td>\n",
       "      <td>C#CCN(C)[C@H](CF)Cc1ccccc1</td>\n",
       "      <td>IC50</td>\n",
       "      <td>'&gt;'</td>\n",
       "      <td>2000.0</td>\n",
       "      <td>nM</td>\n",
       "      <td>205.126678</td>\n",
       "      <td>2.1322</td>\n",
       "      <td>0</td>\n",
       "      <td>1</td>\n",
       "      <td>6</td>\n",
       "      <td>True</td>\n",
       "      <td>4</td>\n",
       "      <td>1425</td>\n",
       "      <td>0</td>\n",
       "    </tr>\n",
       "  </tbody>\n",
       "</table>\n",
       "</div>"
      ],
      "text/plain": [
       "     Molecule ChEMBL ID                                   SMILES  \\\n",
       "2973      CHEMBL3218160  C(=N/Nc1nc(-c2ccc3ccccc3c2)cs1)\\c1ccco1   \n",
       "2974      CHEMBL2332211                 C#CCN(C)[C@H](CF)CC(=C)C   \n",
       "2975      CHEMBL2332210                  C#CCN(C)[C@H](CF)CC(C)C   \n",
       "2976      CHEMBL2332212                C#CCN(C)[C@H](CF)Cc1ccco1   \n",
       "2977      CHEMBL1911928               C#CCN(C)[C@H](CF)Cc1ccccc1   \n",
       "\n",
       "     Standard Type Standard Relation  Standard Value Standard Units  \\\n",
       "2973          IC50               '='          2040.0             nM   \n",
       "2974          IC50               '>'          2000.0             nM   \n",
       "2975          IC50               '>'          2000.0             nM   \n",
       "2976          IC50               '>'          2000.0             nM   \n",
       "2977          IC50               '>'          2000.0             nM   \n",
       "\n",
       "              Mw    logP  HBd  HBa  Max_ring_size  ro5_ok  ro5_count  Cluster  \\\n",
       "2973  319.077933  5.0023    1    4              6   False          3     1421   \n",
       "2974  169.126678  1.8557    0    1              0    True          4     1422   \n",
       "2975  171.142328  1.9356    0    1              0    True          4     1423   \n",
       "2976  195.105942  1.7252    0    2              5    True          4     1424   \n",
       "2977  205.126678  2.1322    0    1              6    True          4     1425   \n",
       "\n",
       "      label  \n",
       "2973      0  \n",
       "2974      0  \n",
       "2975      0  \n",
       "2976      0  \n",
       "2977      0  "
      ]
     },
     "execution_count": 18,
     "metadata": {},
     "output_type": "execute_result"
    }
   ],
   "source": [
    "combined_cluster.tail()"
   ]
  },
  {
   "cell_type": "code",
   "execution_count": 19,
   "metadata": {},
   "outputs": [
    {
     "data": {
      "text/plain": [
       "(2817, 15)"
      ]
     },
     "execution_count": 19,
     "metadata": {},
     "output_type": "execute_result"
    }
   ],
   "source": [
    "combined_cluster.shape"
   ]
  },
  {
   "cell_type": "code",
   "execution_count": 20,
   "metadata": {},
   "outputs": [
    {
     "data": {
      "text/plain": [
       "(1459, 15)"
      ]
     },
     "execution_count": 20,
     "metadata": {},
     "output_type": "execute_result"
    }
   ],
   "source": [
    "combined_unique.shape"
   ]
  },
  {
   "cell_type": "markdown",
   "metadata": {},
   "source": [
    "- MAO_cluster_df was reduced from 3158 to 2817 molecule entries\n",
    "- MAO_unique_df was reduced from 1605 to 1459 molecule entries"
   ]
  },
  {
   "cell_type": "code",
   "execution_count": 21,
   "metadata": {},
   "outputs": [],
   "source": [
    "#Saving new clean datasets and save SMILES codes with labels\n",
    "\n",
    "# MAO_cluster_df\n",
    "\n",
    "combined_cluster.to_csv('MAO-A_cluster_cleaned.csv', index=None)\n",
    "combined_cluster[['SMILES', 'label']].to_csv('MAO-A_cluster.smi', sep='\\t', header=False, index=None)\n",
    "\n",
    "#MAO_unique_df\n",
    "\n",
    "combined_unique.to_csv('MAO-A_unique_cleaned.csv', index=None)\n",
    "combined_unique[['SMILES', 'label']].to_csv('MAO-A_unique.smi', sep='\\t', header=False, index=None)"
   ]
  },
  {
   "cell_type": "markdown",
   "metadata": {},
   "source": [
    "## Obtaining structural features from SMILE codes using RDkit\n",
    "\n",
    "- Morgan Fingerprints (extended conectivity fingerprints)"
   ]
  },
  {
   "cell_type": "code",
   "execution_count": 22,
   "metadata": {},
   "outputs": [],
   "source": [
    "# Loading SMILES data to calculate Morgan Fingerprints\n",
    "\n",
    "MAO_smi_cluster = Chem.SmilesMolSupplier('MAO-A_cluster.smi', delimiter='\\t', titleLine=False)\n",
    "\n",
    "MAO_smi_unique = Chem.SmilesMolSupplier('MAO-A_unique.smi', delimiter='\\t', titleLine=False)"
   ]
  },
  {
   "cell_type": "code",
   "execution_count": 26,
   "metadata": {},
   "outputs": [],
   "source": [
    "#Calculation of Morgan fingerprints and converting them in Numpy array matrix\n",
    "\n",
    "# MAO_cluster\n",
    "MAO_fp_cluster = [AllChem.GetMorganFingerprintAsBitVect(mol, 2, nBits=2048) for mol in MAO_smi_cluster if mol is not None]\n",
    "MAO_train_cluster = np.asarray(MAO_fp_cluster,dtype=np.int32)\n",
    "\n",
    "# MAO_unique\n",
    "MAO_fp_unique = [AllChem.GetMorganFingerprintAsBitVect(mol, 2, nBits=2048) for mol in MAO_smi_unique if mol is not None]\n",
    "MAO_train_unique = np.asarray(MAO_fp_unique,dtype=np.int32)"
   ]
  },
  {
   "cell_type": "code",
   "execution_count": 28,
   "metadata": {},
   "outputs": [
    {
     "data": {
      "text/plain": [
       "array([[0, 0, 0, ..., 0, 0, 0],\n",
       "       [0, 0, 0, ..., 0, 0, 0],\n",
       "       [0, 0, 0, ..., 0, 0, 0],\n",
       "       ...,\n",
       "       [0, 1, 0, ..., 0, 0, 0],\n",
       "       [0, 1, 1, ..., 0, 0, 0],\n",
       "       [0, 1, 0, ..., 0, 0, 0]], dtype=int32)"
      ]
     },
     "execution_count": 28,
     "metadata": {},
     "output_type": "execute_result"
    }
   ],
   "source": [
    "MAO_train_cluster "
   ]
  },
  {
   "cell_type": "code",
   "execution_count": 37,
   "metadata": {},
   "outputs": [],
   "source": [
    "#Adding the labels to the molecule vector matrices\n",
    "\n",
    "# MAO_cluster\n",
    "ids_cluster = [mol.GetProp('_Name') for mol in MAO_smi_cluster if mol is not None]\n",
    "labels_cluster = np.asarray(ids_cluster, dtype=np.int32).reshape(-1,1)\n",
    "\n",
    "# MAO_unique\n",
    "\n",
    "ids_unique = [mol.GetProp('_Name') for mol in MAO_smi_unique if mol is not None]\n",
    "labels_unique = np.asarray(ids_unique, dtype=np.int32).reshape(-1,1)"
   ]
  },
  {
   "cell_type": "code",
   "execution_count": 39,
   "metadata": {},
   "outputs": [],
   "source": [
    "# Concatenate fingerprints with labels arrays\n",
    "\n",
    "# MAO_cluster\n",
    "\n",
    "MAO_dataset_cluster = np.concatenate([MAO_train_cluster, labels_cluster], axis=1)\n",
    "\n",
    "# MAO_unique\n",
    "\n",
    "MAO_dataset_unique = np.concatenate([MAO_train_unique, labels_unique], axis=1)"
   ]
  },
  {
   "cell_type": "code",
   "execution_count": 41,
   "metadata": {},
   "outputs": [],
   "source": [
    "# Saving the features\n",
    "\n",
    "# MAO_cluster\n",
    "\n",
    "np.save('MAO-A_cluster_features', MAO_dataset_cluster)\n",
    "\n",
    "# MAO_unique\n",
    "\n",
    "np.save('MAO-A_unique_features', MAO_dataset_unique)"
   ]
  },
  {
   "cell_type": "markdown",
   "metadata": {},
   "source": [
    "## Building Random Forest ML model using Sklearn\n",
    "\n",
    "Summary:\n",
    "\n",
    "- Divide datasets for training and testing\n",
    "- Perform training (RandomForestClassifier)\n",
    "- Make predictions\n",
    "- Evaluate prediction (confusion matrix descriptors)\n",
    "- Compare training with both data sets (cluster and unique MAO-A datasets)"
   ]
  },
  {
   "cell_type": "code",
   "execution_count": 43,
   "metadata": {},
   "outputs": [],
   "source": [
    "#Spliting datasets using sklearn.train_test_split\n",
    "\n",
    "# MAO_cluster\n",
    "X_train_cluster, X_test_cluster, y_train_cluster, y_test_cluster = train_test_split(MAO_train_cluster, labels_cluster, test_size=0.25, random_state=42, shuffle=True)\n",
    "\n",
    "# MAO_unique\n",
    "X_train_unique, X_test_unique, y_train_unique, y_test_unique = train_test_split(MAO_train_unique, labels_unique, test_size=0.25, random_state=42, shuffle=True)\n",
    "\n"
   ]
  },
  {
   "cell_type": "code",
   "execution_count": 44,
   "metadata": {},
   "outputs": [
    {
     "data": {
      "text/plain": [
       "(2112, 2048)"
      ]
     },
     "execution_count": 44,
     "metadata": {},
     "output_type": "execute_result"
    }
   ],
   "source": [
    "X_train_cluster.shape"
   ]
  },
  {
   "cell_type": "code",
   "execution_count": 45,
   "metadata": {},
   "outputs": [
    {
     "data": {
      "text/plain": [
       "(705, 2048)"
      ]
     },
     "execution_count": 45,
     "metadata": {},
     "output_type": "execute_result"
    }
   ],
   "source": [
    "X_test_cluster.shape"
   ]
  },
  {
   "cell_type": "code",
   "execution_count": 46,
   "metadata": {},
   "outputs": [
    {
     "data": {
      "text/plain": [
       "(1094, 2048)"
      ]
     },
     "execution_count": 46,
     "metadata": {},
     "output_type": "execute_result"
    }
   ],
   "source": [
    "X_train_unique.shape"
   ]
  },
  {
   "cell_type": "code",
   "execution_count": 47,
   "metadata": {},
   "outputs": [
    {
     "data": {
      "text/plain": [
       "(365, 2048)"
      ]
     },
     "execution_count": 47,
     "metadata": {},
     "output_type": "execute_result"
    }
   ],
   "source": [
    "X_test_unique.shape"
   ]
  },
  {
   "cell_type": "markdown",
   "metadata": {},
   "source": [
    "- MAO_cluster datasets:\n",
    "\n",
    "                    - train : 2112\n",
    "                    - test  : 705\n",
    "\n",
    "- MAO_unique datasets:\n",
    "\n",
    "                    - train : 1094\n",
    "                    - test  : 365\n"
   ]
  },
  {
   "cell_type": "code",
   "execution_count": 49,
   "metadata": {},
   "outputs": [
    {
     "data": {
      "text/plain": [
       "0.7293127493898424"
      ]
     },
     "execution_count": 49,
     "metadata": {},
     "output_type": "execute_result"
    }
   ],
   "source": [
    "# MAO_cluster\n",
    "\n",
    "# Random Forest Model training\n",
    "rf_cluster = RandomForestClassifier(random_state=42)\n",
    "rf_cluster.fit(X_train_cluster, y_train_cluster.ravel())\n",
    "\n",
    "#prediction\n",
    "predicted_cluster = rf_cluster.predict(X_test_cluster)\n",
    "\n",
    "#ROC AUC score\n",
    "roc_auc_score(y_test_cluster, predicted_cluster)"
   ]
  },
  {
   "cell_type": "code",
   "execution_count": 50,
   "metadata": {},
   "outputs": [
    {
     "data": {
      "text/plain": [
       "0.6323529411764706"
      ]
     },
     "execution_count": 50,
     "metadata": {},
     "output_type": "execute_result"
    }
   ],
   "source": [
    "# MAO_unique\n",
    "\n",
    "# Random Forest Model training\n",
    "rf_unique = RandomForestClassifier(random_state=42)\n",
    "rf_unique.fit(X_train_unique, y_train_unique.ravel())\n",
    "\n",
    "#prediction\n",
    "predicted_unique = rf_unique.predict(X_test_unique)\n",
    "\n",
    "#ROC AUC score\n",
    "roc_auc_score(y_test_unique, predicted_unique)"
   ]
  },
  {
   "cell_type": "code",
   "execution_count": 57,
   "metadata": {},
   "outputs": [],
   "source": [
    "#prediction analysis\n",
    "\n",
    "cm_cluster = ConfusionMatrix(y_test_cluster.reshape(-1), predicted_cluster)\n",
    "cm_unique = ConfusionMatrix(y_test_unique.reshape(-1), predicted_unique)\n",
    "#print(cm_cluster)"
   ]
  },
  {
   "cell_type": "code",
   "execution_count": 55,
   "metadata": {},
   "outputs": [
    {
     "data": {
      "text/plain": [
       "<Axes: title={'center': 'Confusion Matrix'}, xlabel='Predicted Classes', ylabel='Actual Classes'>"
      ]
     },
     "execution_count": 55,
     "metadata": {},
     "output_type": "execute_result"
    },
    {
     "data": {
      "image/png": "[encoded data removed]",
      "text/plain": [
       "<Figure size 640x480 with 2 Axes>"
      ]
     },
     "metadata": {},
     "output_type": "display_data"
    }
   ],
   "source": [
    "cm_cluster.plot(cmap=plt.cm.Greens, number_label=True, plot_lib=\"matplotlib\")"
   ]
  },
  {
   "cell_type": "code",
   "execution_count": 58,
   "metadata": {},
   "outputs": [
    {
     "data": {
      "text/plain": [
       "<Axes: title={'center': 'Confusion Matrix'}, xlabel='Predicted Classes', ylabel='Actual Classes'>"
      ]
     },
     "execution_count": 58,
     "metadata": {},
     "output_type": "execute_result"
    },
    {
     "data": {
      "image/png": "[encoded data removed]",
      "text/plain": [
       "<Figure size 640x480 with 2 Axes>"
      ]
     },
     "metadata": {},
     "output_type": "display_data"
    }
   ],
   "source": [
    "cm_unique.plot(cmap=plt.cm.Greens, number_label=True, plot_lib=\"matplotlib\")"
   ]
  },
  {
   "cell_type": "code",
   "execution_count": 53,
   "metadata": {},
   "outputs": [],
   "source": [
    "#Save models with Pickle\n",
    "\n",
    "# MAO_unique\n",
    "with open('rf_model_MAO-A_cluster.pkl', 'wb') as f:\n",
    "    pickle.dump(rf_cluster, f)\n",
    "\n",
    "# MAO_unique   \n",
    "with open('rf_model_MAO-A_unique.pkl', 'wb') as f:\n",
    "    pickle.dump(rf_unique, f)"
   ]
  }
 ],
 "metadata": {
  "kernelspec": {
   "display_name": "MachineLearning",
   "language": "python",
   "name": "python3"
  },
  "language_info": {
   "codemirror_mode": {
    "name": "ipython",
    "version": 3
   },
   "file_extension": ".py",
   "mimetype": "text/x-python",
   "name": "python",
   "nbconvert_exporter": "python",
   "pygments_lexer": "ipython3",
   "version": "3.10.13"
  },
  "orig_nbformat": 4
 },
 "nbformat": 4,
 "nbformat_minor": 2
}
